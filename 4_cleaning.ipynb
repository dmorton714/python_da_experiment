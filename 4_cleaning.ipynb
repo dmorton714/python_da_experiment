{
 "cells": [
  {
   "cell_type": "code",
   "execution_count": 1,
   "metadata": {},
   "outputs": [],
   "source": [
    "import pandas as pd\n",
    "import numpy as np\n",
    "from markdown import MarkDownSeries"
   ]
  },
  {
   "cell_type": "markdown",
   "metadata": {},
   "source": [
    "### Reading in our data"
   ]
  },
  {
   "cell_type": "code",
   "execution_count": 2,
   "metadata": {},
   "outputs": [],
   "source": [
    "RawData = pd.read_csv('vgchartz-2024.csv')"
   ]
  },
  {
   "cell_type": "markdown",
   "metadata": {},
   "source": [
    "### Using our function "
   ]
  },
  {
   "cell_type": "markdown",
   "metadata": {},
   "source": [
    "#### **How we will do it**\n",
    "\n",
    "\n",
    "\n",
    "1. **Importing the Function**:\n",
    "    * ```from data_preprocessing import preprocess_data```\n",
    "\n",
    "        * This line imports the `preprocess_data` function from our file named `data_preprocessing.py`. \n",
    "        \n",
    "        * By doing this, we can use the `preprocess_data` function in our current script or notebook without having to redefine it.\n",
    "\n",
    "\n",
    "\n",
    "2. **Calling the Function**:\n",
    "\n",
    "    * `preprocessed_RawData = preprocess_data(RawData)`\n",
    "\n",
    "        * This line calls the `preprocess_data` function, passing `RawData` (which is our DataFrame) as an argument.\n",
    "\n",
    "        * The `preprocess_data` function processes `RawData` according to the steps defined within the function, such as converting dates, dropping unnecessary columns, handling missing values, and converting strings to lowercase.\n",
    "\n",
    "        * The processed DataFrame is then assigned to a new variable, `preprocessed_RawData`, which we can use for further analysis.\n"
   ]
  },
  {
   "cell_type": "code",
   "execution_count": 3,
   "metadata": {},
   "outputs": [],
   "source": [
    "from data_preprocessing import preprocess_data\n",
    "\n",
    "preprocessed_RawData = preprocess_data(RawData)"
   ]
  },
  {
   "cell_type": "markdown",
   "metadata": {},
   "source": [
    "### **Summary**\n",
    "\n",
    "- We imported a preprocessing function from an external file to keep our code organized and clean.\n",
    "\n",
    "- We applied the preprocessing function to our data and stored the result in a new variable for further use."
   ]
  },
  {
   "cell_type": "code",
   "execution_count": 4,
   "metadata": {},
   "outputs": [
    {
     "data": {
      "text/html": [
       "<div>\n",
       "<style scoped>\n",
       "    .dataframe tbody tr th:only-of-type {\n",
       "        vertical-align: middle;\n",
       "    }\n",
       "\n",
       "    .dataframe tbody tr th {\n",
       "        vertical-align: top;\n",
       "    }\n",
       "\n",
       "    .dataframe thead th {\n",
       "        text-align: right;\n",
       "    }\n",
       "</style>\n",
       "<table border=\"1\" class=\"dataframe\">\n",
       "  <thead>\n",
       "    <tr style=\"text-align: right;\">\n",
       "      <th></th>\n",
       "      <th>title</th>\n",
       "      <th>console</th>\n",
       "      <th>genre</th>\n",
       "      <th>publisher</th>\n",
       "      <th>developer</th>\n",
       "      <th>critic_score</th>\n",
       "      <th>total_sales</th>\n",
       "      <th>na_sales</th>\n",
       "      <th>jp_sales</th>\n",
       "      <th>pal_sales</th>\n",
       "      <th>other_sales</th>\n",
       "      <th>release_date</th>\n",
       "    </tr>\n",
       "  </thead>\n",
       "  <tbody>\n",
       "    <tr>\n",
       "      <th>0</th>\n",
       "      <td>Grand Theft Auto V</td>\n",
       "      <td>ps3</td>\n",
       "      <td>Action</td>\n",
       "      <td>Rockstar Games</td>\n",
       "      <td>Rockstar North</td>\n",
       "      <td>9.4</td>\n",
       "      <td>20.32</td>\n",
       "      <td>6.37</td>\n",
       "      <td>0.99</td>\n",
       "      <td>9.85</td>\n",
       "      <td>3.12</td>\n",
       "      <td>2013-09-17</td>\n",
       "    </tr>\n",
       "  </tbody>\n",
       "</table>\n",
       "</div>"
      ],
      "text/plain": [
       "                title console   genre       publisher       developer  \\\n",
       "0  Grand Theft Auto V     ps3  Action  Rockstar Games  Rockstar North   \n",
       "\n",
       "   critic_score  total_sales  na_sales  jp_sales  pal_sales  other_sales  \\\n",
       "0           9.4        20.32      6.37      0.99       9.85         3.12   \n",
       "\n",
       "  release_date  \n",
       "0   2013-09-17  "
      ]
     },
     "execution_count": 4,
     "metadata": {},
     "output_type": "execute_result"
    }
   ],
   "source": [
    "preprocessed_RawData.head(1)"
   ]
  },
  {
   "cell_type": "markdown",
   "metadata": {},
   "source": [
    "### **Problem:**\n",
    "\n",
    "We have the console names for the sales data, but we lack the manufacturer information. By conducting some research, we can determine the manufacturer for each console. To address this, we will create a dictionary to map each console to its respective manufacturer.\n",
    "\n",
    "\n",
    "### **Mapping Console to Create Manufacturer Column:**\n",
    "\n",
    "1. **Create a Dictionary for Mapping**:\n",
    "\n",
    "    * Define a dictionary that maps each console to its respective manufacturer.\n",
    "\n",
    "\n",
    "2. **Flatten into a Single List**:\n",
    "\n",
    "    * Ensure that the dictionary keys are properly flattened into a single list for easy access and manipulation.\n",
    "\n",
    "\n",
    "3. **Check for Missing Items**:\n",
    "\n",
    "    * Identify any consoles in the data that are not included in the dictionary to ensure completeness.\n",
    "\n",
    "\n",
    "4. <strong>Create Conditions and Values for <code>np.select</code></strong>:\n",
    "\n",
    "    * Define conditions and corresponding values to use with the <code>np.select</code> function for assigning manufacturers.\n",
    "\n",
    "\n",
    "5. <strong>Assign Console Manufacturers</strong>:\n",
    "\n",
    "    * Use the mapping to create a new column in the DataFrame that lists the manufacturer for each console.\n",
    "\n",
    "\n",
    "This approach ensures our dataset accurately reflects the relationship between consoles and their manufacturers, providing a complete view for analysis.\n",
    "\n",
    "---"
   ]
  },
  {
   "cell_type": "markdown",
   "metadata": {},
   "source": [
    "### We will start by making our empty dictionary "
   ]
  },
  {
   "cell_type": "code",
   "execution_count": 5,
   "metadata": {},
   "outputs": [],
   "source": [
    "categories = {\n",
    "    'nintendo': [],\n",
    "    'pc': [],\n",
    "    'xbox': [],\n",
    "    'sony': [],\n",
    "    'mobile': [],\n",
    "    'sega': [],\n",
    "    'atari': [],\n",
    "    'commodore': [],\n",
    "    'other': []\n",
    "}"
   ]
  },
  {
   "cell_type": "code",
   "execution_count": 6,
   "metadata": {},
   "outputs": [
    {
     "data": {
      "text/plain": [
       "console\n",
       "pc     10477\n",
       "ps2     3511\n",
       "ds      3166\n",
       "Name: count, dtype: int64"
      ]
     },
     "execution_count": 6,
     "metadata": {},
     "output_type": "execute_result"
    }
   ],
   "source": [
    "preprocessed_RawData['console'].value_counts().head(3)"
   ]
  },
  {
   "cell_type": "markdown",
   "metadata": {},
   "source": [
    "### The finished Dictionary should look like this:\n",
    "\n",
    "| manufacturer | console |\n",
    "|---|---|\n",
    "| atari | 2600, 7800, 5200, aj, int |\n",
    "| commodore | amig, c64, cd32 |\n",
    "| mobile | ios, and, winp, ngage, mob |\n",
    "| nintendo | 3ds, dsiw, dsi, ds, wii, wiiu, ns, gb, gba, nes, snes, gbc, n64, vb, gc, vc, ww |\n",
    "| other | ouya, or, acpc, ast, apii, pce, zxs, lynx, ng, zxs, 3do, pcfx, ws, brw, cv, giz, msx, tg16, bbcm |\n",
    "| pc | linux, osx, pc, arc, all, fmt, c128, aco |\n",
    "| sega | gg, msd, ms, gen, scd, sat, s32x, dc |\n",
    "| sony | ps, ps2, ps3, ps4, ps5, psp, psv, psn, cdi |\n",
    "| xbox | x360, xone, series, xbl, xb, xs |\n"
   ]
  },
  {
   "cell_type": "code",
   "execution_count": 7,
   "metadata": {},
   "outputs": [],
   "source": [
    "# categories = {\n",
    "#     'nintendo': ['3ds', 'dsiw', 'dsi', 'ds', 'wii', 'wiiu', 'ns', 'gb', 'gba', 'nes', 'snes', 'gbc', 'n64', 'vb', 'gc', 'vc','ww'],\n",
    "#     'pc': ['linux', 'osx', 'pc', 'arc', 'all', 'fmt', 'c128', 'aco'],\n",
    "#     'xbox': ['x360', 'xone', 'series', 'xbl', 'xb', 'xs'],\n",
    "#     'sony': ['ps', 'ps2', 'ps3', 'ps4', 'ps5', 'psp', 'psv', 'psn', 'cdi'],\n",
    "#     'mobile': ['ios', 'and', 'winp', 'ngage', 'mob'],\n",
    "#     'sega': ['gg', 'msd', 'ms', 'gen', 'scd', 'sat', 's32x', 'dc'],\n",
    "#     'atari': ['2600', '7800', '5200', 'aj', 'int'],\n",
    "#     'commodore': ['amig', 'c64', 'cd32'],\n",
    "#     'other': ['ouya', 'or', 'acpc', 'ast', 'apii', 'pce', 'zxs', 'lynx', 'ng', 'zxs', '3do', 'pcfx', 'ws', 'brw', 'cv', 'giz', 'msx', 'tg16', 'bbcm']\n",
    "# }\n",
    "\n",
    "# # Step 2: Flatten categories into a single list\n",
    "# all_items = []\n",
    "# for sublist in categories.values():\n",
    "#     for item in sublist:\n",
    "#         all_items.append(item)\n",
    "\n",
    "# # Step 3: Check for missing items\n",
    "# all_items_lower = [item.lower().strip() for item in all_items]\n",
    "# unique_values_lower = set(RawData['console'].str.lower().str.strip().unique())\n",
    "# missing_items = set(all_items_lower) - unique_values_lower\n",
    "\n",
    "# if missing_items:\n",
    "#     print(f\"Missing items: {missing_items}\")\n",
    "# else:\n",
    "#     print(\"All items are covered.\")\n",
    "\n",
    "# # Step 4: Create conditions and values for np.select\n",
    "# conditions = []\n",
    "# for items in categories.values():\n",
    "#     conditions.append(RawData['console'].isin(items))\n",
    "\n",
    "# values = list(categories.keys())\n",
    "\n",
    "# # Step 5: Assign console manufacturers\n",
    "# RawData['console_mfg'] = np.select(conditions, values, default='unknown')"
   ]
  },
  {
   "cell_type": "code",
   "execution_count": 8,
   "metadata": {},
   "outputs": [],
   "source": [
    "# RawData['console_mfg'].value_counts()"
   ]
  },
  {
   "cell_type": "code",
   "execution_count": 9,
   "metadata": {},
   "outputs": [
    {
     "ename": "KeyError",
     "evalue": "'console_mfg'",
     "output_type": "error",
     "traceback": [
      "\u001b[0;31m---------------------------------------------------------------------------\u001b[0m",
      "\u001b[0;31mKeyError\u001b[0m                                  Traceback (most recent call last)",
      "File \u001b[0;32m~/Documents/code/python_da_experiment/venv/lib/python3.12/site-packages/pandas/core/indexes/base.py:3805\u001b[0m, in \u001b[0;36mIndex.get_loc\u001b[0;34m(self, key)\u001b[0m\n\u001b[1;32m   3804\u001b[0m \u001b[38;5;28;01mtry\u001b[39;00m:\n\u001b[0;32m-> 3805\u001b[0m     \u001b[38;5;28;01mreturn\u001b[39;00m \u001b[38;5;28;43mself\u001b[39;49m\u001b[38;5;241;43m.\u001b[39;49m\u001b[43m_engine\u001b[49m\u001b[38;5;241;43m.\u001b[39;49m\u001b[43mget_loc\u001b[49m\u001b[43m(\u001b[49m\u001b[43mcasted_key\u001b[49m\u001b[43m)\u001b[49m\n\u001b[1;32m   3806\u001b[0m \u001b[38;5;28;01mexcept\u001b[39;00m \u001b[38;5;167;01mKeyError\u001b[39;00m \u001b[38;5;28;01mas\u001b[39;00m err:\n",
      "File \u001b[0;32mindex.pyx:167\u001b[0m, in \u001b[0;36mpandas._libs.index.IndexEngine.get_loc\u001b[0;34m()\u001b[0m\n",
      "File \u001b[0;32mindex.pyx:196\u001b[0m, in \u001b[0;36mpandas._libs.index.IndexEngine.get_loc\u001b[0;34m()\u001b[0m\n",
      "File \u001b[0;32mpandas/_libs/hashtable_class_helper.pxi:7081\u001b[0m, in \u001b[0;36mpandas._libs.hashtable.PyObjectHashTable.get_item\u001b[0;34m()\u001b[0m\n",
      "File \u001b[0;32mpandas/_libs/hashtable_class_helper.pxi:7089\u001b[0m, in \u001b[0;36mpandas._libs.hashtable.PyObjectHashTable.get_item\u001b[0;34m()\u001b[0m\n",
      "\u001b[0;31mKeyError\u001b[0m: 'console_mfg'",
      "\nThe above exception was the direct cause of the following exception:\n",
      "\u001b[0;31mKeyError\u001b[0m                                  Traceback (most recent call last)",
      "Cell \u001b[0;32mIn[9], line 1\u001b[0m\n\u001b[0;32m----> 1\u001b[0m missing_consoles \u001b[38;5;241m=\u001b[39m RawData[\u001b[43mRawData\u001b[49m\u001b[43m[\u001b[49m\u001b[38;5;124;43m'\u001b[39;49m\u001b[38;5;124;43mconsole_mfg\u001b[39;49m\u001b[38;5;124;43m'\u001b[39;49m\u001b[43m]\u001b[49m \u001b[38;5;241m==\u001b[39m \u001b[38;5;124m\"\u001b[39m\u001b[38;5;124munknown\u001b[39m\u001b[38;5;124m\"\u001b[39m][\u001b[38;5;124m'\u001b[39m\u001b[38;5;124mconsole\u001b[39m\u001b[38;5;124m'\u001b[39m]\n\u001b[1;32m      2\u001b[0m \u001b[38;5;28mprint\u001b[39m(\u001b[38;5;124m\"\u001b[39m\u001b[38;5;124mConsoles with unknown manufacturers:\u001b[39m\u001b[38;5;124m\"\u001b[39m)\n\u001b[1;32m      3\u001b[0m missing_consoles\u001b[38;5;241m.\u001b[39mvalue_counts()\n",
      "File \u001b[0;32m~/Documents/code/python_da_experiment/venv/lib/python3.12/site-packages/pandas/core/frame.py:4102\u001b[0m, in \u001b[0;36mDataFrame.__getitem__\u001b[0;34m(self, key)\u001b[0m\n\u001b[1;32m   4100\u001b[0m \u001b[38;5;28;01mif\u001b[39;00m \u001b[38;5;28mself\u001b[39m\u001b[38;5;241m.\u001b[39mcolumns\u001b[38;5;241m.\u001b[39mnlevels \u001b[38;5;241m>\u001b[39m \u001b[38;5;241m1\u001b[39m:\n\u001b[1;32m   4101\u001b[0m     \u001b[38;5;28;01mreturn\u001b[39;00m \u001b[38;5;28mself\u001b[39m\u001b[38;5;241m.\u001b[39m_getitem_multilevel(key)\n\u001b[0;32m-> 4102\u001b[0m indexer \u001b[38;5;241m=\u001b[39m \u001b[38;5;28;43mself\u001b[39;49m\u001b[38;5;241;43m.\u001b[39;49m\u001b[43mcolumns\u001b[49m\u001b[38;5;241;43m.\u001b[39;49m\u001b[43mget_loc\u001b[49m\u001b[43m(\u001b[49m\u001b[43mkey\u001b[49m\u001b[43m)\u001b[49m\n\u001b[1;32m   4103\u001b[0m \u001b[38;5;28;01mif\u001b[39;00m is_integer(indexer):\n\u001b[1;32m   4104\u001b[0m     indexer \u001b[38;5;241m=\u001b[39m [indexer]\n",
      "File \u001b[0;32m~/Documents/code/python_da_experiment/venv/lib/python3.12/site-packages/pandas/core/indexes/base.py:3812\u001b[0m, in \u001b[0;36mIndex.get_loc\u001b[0;34m(self, key)\u001b[0m\n\u001b[1;32m   3807\u001b[0m     \u001b[38;5;28;01mif\u001b[39;00m \u001b[38;5;28misinstance\u001b[39m(casted_key, \u001b[38;5;28mslice\u001b[39m) \u001b[38;5;129;01mor\u001b[39;00m (\n\u001b[1;32m   3808\u001b[0m         \u001b[38;5;28misinstance\u001b[39m(casted_key, abc\u001b[38;5;241m.\u001b[39mIterable)\n\u001b[1;32m   3809\u001b[0m         \u001b[38;5;129;01mand\u001b[39;00m \u001b[38;5;28many\u001b[39m(\u001b[38;5;28misinstance\u001b[39m(x, \u001b[38;5;28mslice\u001b[39m) \u001b[38;5;28;01mfor\u001b[39;00m x \u001b[38;5;129;01min\u001b[39;00m casted_key)\n\u001b[1;32m   3810\u001b[0m     ):\n\u001b[1;32m   3811\u001b[0m         \u001b[38;5;28;01mraise\u001b[39;00m InvalidIndexError(key)\n\u001b[0;32m-> 3812\u001b[0m     \u001b[38;5;28;01mraise\u001b[39;00m \u001b[38;5;167;01mKeyError\u001b[39;00m(key) \u001b[38;5;28;01mfrom\u001b[39;00m \u001b[38;5;21;01merr\u001b[39;00m\n\u001b[1;32m   3813\u001b[0m \u001b[38;5;28;01mexcept\u001b[39;00m \u001b[38;5;167;01mTypeError\u001b[39;00m:\n\u001b[1;32m   3814\u001b[0m     \u001b[38;5;66;03m# If we have a listlike key, _check_indexing_error will raise\u001b[39;00m\n\u001b[1;32m   3815\u001b[0m     \u001b[38;5;66;03m#  InvalidIndexError. Otherwise we fall through and re-raise\u001b[39;00m\n\u001b[1;32m   3816\u001b[0m     \u001b[38;5;66;03m#  the TypeError.\u001b[39;00m\n\u001b[1;32m   3817\u001b[0m     \u001b[38;5;28mself\u001b[39m\u001b[38;5;241m.\u001b[39m_check_indexing_error(key)\n",
      "\u001b[0;31mKeyError\u001b[0m: 'console_mfg'"
     ]
    }
   ],
   "source": [
    "missing_consoles = RawData[RawData['console_mfg'] == \"unknown\"]['console']\n",
    "print(\"Consoles with unknown manufacturers:\")\n",
    "missing_consoles.value_counts()"
   ]
  },
  {
   "cell_type": "code",
   "execution_count": null,
   "metadata": {},
   "outputs": [
    {
     "name": "stdout",
     "output_type": "stream",
     "text": [
      "Rows where console = 'pc':\n"
     ]
    },
    {
     "data": {
      "text/html": [
       "<div>\n",
       "<style scoped>\n",
       "    .dataframe tbody tr th:only-of-type {\n",
       "        vertical-align: middle;\n",
       "    }\n",
       "\n",
       "    .dataframe tbody tr th {\n",
       "        vertical-align: top;\n",
       "    }\n",
       "\n",
       "    .dataframe thead th {\n",
       "        text-align: right;\n",
       "    }\n",
       "</style>\n",
       "<table border=\"1\" class=\"dataframe\">\n",
       "  <thead>\n",
       "    <tr style=\"text-align: right;\">\n",
       "      <th></th>\n",
       "      <th>img</th>\n",
       "      <th>title</th>\n",
       "      <th>console</th>\n",
       "      <th>genre</th>\n",
       "      <th>publisher</th>\n",
       "      <th>developer</th>\n",
       "      <th>critic_score</th>\n",
       "      <th>total_sales</th>\n",
       "      <th>na_sales</th>\n",
       "      <th>jp_sales</th>\n",
       "      <th>pal_sales</th>\n",
       "      <th>other_sales</th>\n",
       "      <th>release_date</th>\n",
       "      <th>last_update</th>\n",
       "    </tr>\n",
       "  </thead>\n",
       "  <tbody>\n",
       "  </tbody>\n",
       "</table>\n",
       "</div>"
      ],
      "text/plain": [
       "Empty DataFrame\n",
       "Columns: [img, title, console, genre, publisher, developer, critic_score, total_sales, na_sales, jp_sales, pal_sales, other_sales, release_date, last_update]\n",
       "Index: []"
      ]
     },
     "execution_count": 14,
     "metadata": {},
     "output_type": "execute_result"
    }
   ],
   "source": [
    "ConsoleToQuery = 'pc'\n",
    "QueryResult = RawData[RawData['console'] == ConsoleToQuery]\n",
    "print(f\"Rows where console = '{ConsoleToQuery}':\")\n",
    "QueryResult.head(20)"
   ]
  },
  {
   "cell_type": "code",
   "execution_count": null,
   "metadata": {},
   "outputs": [
    {
     "data": {
      "text/html": [
       "<div>\n",
       "<style scoped>\n",
       "    .dataframe tbody tr th:only-of-type {\n",
       "        vertical-align: middle;\n",
       "    }\n",
       "\n",
       "    .dataframe tbody tr th {\n",
       "        vertical-align: top;\n",
       "    }\n",
       "\n",
       "    .dataframe thead th {\n",
       "        text-align: right;\n",
       "    }\n",
       "</style>\n",
       "<table border=\"1\" class=\"dataframe\">\n",
       "  <thead>\n",
       "    <tr style=\"text-align: right;\">\n",
       "      <th></th>\n",
       "      <th>img</th>\n",
       "      <th>title</th>\n",
       "      <th>console</th>\n",
       "      <th>genre</th>\n",
       "      <th>publisher</th>\n",
       "      <th>developer</th>\n",
       "      <th>critic_score</th>\n",
       "      <th>total_sales</th>\n",
       "      <th>na_sales</th>\n",
       "      <th>jp_sales</th>\n",
       "      <th>pal_sales</th>\n",
       "      <th>other_sales</th>\n",
       "      <th>release_date</th>\n",
       "      <th>last_update</th>\n",
       "      <th>console_mfg</th>\n",
       "    </tr>\n",
       "  </thead>\n",
       "  <tbody>\n",
       "    <tr>\n",
       "      <th>38407</th>\n",
       "      <td>/games/boxart/default.jpg</td>\n",
       "      <td>The Great Giana Sisters</td>\n",
       "      <td>MSX</td>\n",
       "      <td>Misc</td>\n",
       "      <td>Rainbow Arts</td>\n",
       "      <td>Unknown</td>\n",
       "      <td>NaN</td>\n",
       "      <td>NaN</td>\n",
       "      <td>NaN</td>\n",
       "      <td>NaN</td>\n",
       "      <td>NaN</td>\n",
       "      <td>NaN</td>\n",
       "      <td>1987-01-01</td>\n",
       "      <td>NaN</td>\n",
       "      <td>unknown</td>\n",
       "    </tr>\n",
       "    <tr>\n",
       "      <th>38408</th>\n",
       "      <td>/games/boxart/default.jpg</td>\n",
       "      <td>The Great Giana Sisters</td>\n",
       "      <td>AST</td>\n",
       "      <td>Misc</td>\n",
       "      <td>Rainbow Arts</td>\n",
       "      <td>Unknown</td>\n",
       "      <td>NaN</td>\n",
       "      <td>NaN</td>\n",
       "      <td>NaN</td>\n",
       "      <td>NaN</td>\n",
       "      <td>NaN</td>\n",
       "      <td>NaN</td>\n",
       "      <td>1987-01-01</td>\n",
       "      <td>NaN</td>\n",
       "      <td>unknown</td>\n",
       "    </tr>\n",
       "    <tr>\n",
       "      <th>38409</th>\n",
       "      <td>/games/boxart/default.jpg</td>\n",
       "      <td>The Great Giana Sisters</td>\n",
       "      <td>Amig</td>\n",
       "      <td>Misc</td>\n",
       "      <td>Rainbow Arts</td>\n",
       "      <td>Unknown</td>\n",
       "      <td>NaN</td>\n",
       "      <td>NaN</td>\n",
       "      <td>NaN</td>\n",
       "      <td>NaN</td>\n",
       "      <td>NaN</td>\n",
       "      <td>NaN</td>\n",
       "      <td>1987-01-01</td>\n",
       "      <td>NaN</td>\n",
       "      <td>unknown</td>\n",
       "    </tr>\n",
       "    <tr>\n",
       "      <th>38410</th>\n",
       "      <td>/games/boxart/default.jpg</td>\n",
       "      <td>The Great Giana Sisters</td>\n",
       "      <td>C64</td>\n",
       "      <td>Misc</td>\n",
       "      <td>Rainbow Arts</td>\n",
       "      <td>Unknown</td>\n",
       "      <td>NaN</td>\n",
       "      <td>NaN</td>\n",
       "      <td>NaN</td>\n",
       "      <td>NaN</td>\n",
       "      <td>NaN</td>\n",
       "      <td>NaN</td>\n",
       "      <td>1987-01-01</td>\n",
       "      <td>NaN</td>\n",
       "      <td>unknown</td>\n",
       "    </tr>\n",
       "    <tr>\n",
       "      <th>38411</th>\n",
       "      <td>/games/boxart/default.jpg</td>\n",
       "      <td>The Great Giana Sisters</td>\n",
       "      <td>BRW</td>\n",
       "      <td>Misc</td>\n",
       "      <td>Rainbow Arts</td>\n",
       "      <td>Unknown</td>\n",
       "      <td>NaN</td>\n",
       "      <td>NaN</td>\n",
       "      <td>NaN</td>\n",
       "      <td>NaN</td>\n",
       "      <td>NaN</td>\n",
       "      <td>NaN</td>\n",
       "      <td>1987-01-01</td>\n",
       "      <td>NaN</td>\n",
       "      <td>unknown</td>\n",
       "    </tr>\n",
       "    <tr>\n",
       "      <th>41938</th>\n",
       "      <td>/games/boxart/full_1949814AmericaFrontccc.png</td>\n",
       "      <td>The Great Giana Sisters</td>\n",
       "      <td>ACPC</td>\n",
       "      <td>Platform</td>\n",
       "      <td>Rainbow Arts</td>\n",
       "      <td>Time Warp Productions</td>\n",
       "      <td>NaN</td>\n",
       "      <td>NaN</td>\n",
       "      <td>NaN</td>\n",
       "      <td>NaN</td>\n",
       "      <td>NaN</td>\n",
       "      <td>NaN</td>\n",
       "      <td>1987-01-01</td>\n",
       "      <td>2018-01-06</td>\n",
       "      <td>unknown</td>\n",
       "    </tr>\n",
       "  </tbody>\n",
       "</table>\n",
       "</div>"
      ],
      "text/plain": [
       "                                                 img                    title  \\\n",
       "38407                      /games/boxart/default.jpg  The Great Giana Sisters   \n",
       "38408                      /games/boxart/default.jpg  The Great Giana Sisters   \n",
       "38409                      /games/boxart/default.jpg  The Great Giana Sisters   \n",
       "38410                      /games/boxart/default.jpg  The Great Giana Sisters   \n",
       "38411                      /games/boxart/default.jpg  The Great Giana Sisters   \n",
       "41938  /games/boxart/full_1949814AmericaFrontccc.png  The Great Giana Sisters   \n",
       "\n",
       "      console     genre     publisher              developer  critic_score  \\\n",
       "38407     MSX      Misc  Rainbow Arts                Unknown           NaN   \n",
       "38408     AST      Misc  Rainbow Arts                Unknown           NaN   \n",
       "38409    Amig      Misc  Rainbow Arts                Unknown           NaN   \n",
       "38410     C64      Misc  Rainbow Arts                Unknown           NaN   \n",
       "38411     BRW      Misc  Rainbow Arts                Unknown           NaN   \n",
       "41938    ACPC  Platform  Rainbow Arts  Time Warp Productions           NaN   \n",
       "\n",
       "       total_sales  na_sales  jp_sales  pal_sales  other_sales release_date  \\\n",
       "38407          NaN       NaN       NaN        NaN          NaN   1987-01-01   \n",
       "38408          NaN       NaN       NaN        NaN          NaN   1987-01-01   \n",
       "38409          NaN       NaN       NaN        NaN          NaN   1987-01-01   \n",
       "38410          NaN       NaN       NaN        NaN          NaN   1987-01-01   \n",
       "38411          NaN       NaN       NaN        NaN          NaN   1987-01-01   \n",
       "41938          NaN       NaN       NaN        NaN          NaN   1987-01-01   \n",
       "\n",
       "      last_update console_mfg  \n",
       "38407         NaN     unknown  \n",
       "38408         NaN     unknown  \n",
       "38409         NaN     unknown  \n",
       "38410         NaN     unknown  \n",
       "38411         NaN     unknown  \n",
       "41938  2018-01-06     unknown  "
      ]
     },
     "execution_count": 20,
     "metadata": {},
     "output_type": "execute_result"
    }
   ],
   "source": [
    "GameToQuery = 'The Great Giana Sisters'\n",
    "GameQueryResult = RawData[RawData['title'] == GameToQuery]\n",
    "GameQueryResult.head(20)"
   ]
  },
  {
   "cell_type": "code",
   "execution_count": null,
   "metadata": {},
   "outputs": [
    {
     "name": "stdout",
     "output_type": "stream",
     "text": [
      "| manufacturer | console |\n",
      "|---|---|\n",
      "| atari | 2600, 7800, 5200, aj, int |\n",
      "| commodore | amig, c64, cd32 |\n",
      "| mobile | ios, and, winp, ngage, mob |\n",
      "| nintendo | 3ds, dsiw, dsi, ds, wii, wiiu, ns, gb, gba, nes, snes, gbc, n64, vb, gc, vc, ww |\n",
      "| other | ouya, or, acpc, ast, apii, pce, zxs, lynx, ng, zxs, 3do, pcfx, ws, brw, cv, giz, msx, tg16, bbcm |\n",
      "| pc | linux, osx, pc, arc, all, fmt, c128, aco |\n",
      "| sega | gg, msd, ms, gen, scd, sat, s32x, dc |\n",
      "| sony | ps, ps2, ps3, ps4, ps5, psp, psv, psn, cdi |\n",
      "| xbox | x360, xone, series, xbl, xb, xs |\n",
      "\n"
     ]
    }
   ],
   "source": [
    "categoriesList = []\n",
    "for manufacturer, consoles in categories.items():\n",
    "    for console in consoles:\n",
    "        categoriesList.append({'manufacturer': manufacturer, 'console': console})\n",
    "\n",
    "# Converting the list to a DataFrame\n",
    "mfg_list = pd.DataFrame(categoriesList)\n",
    "\n",
    "# Grouping by 'manufacturer' and aggregating consoles into lists\n",
    "grouped_series = mfg_list.groupby('manufacturer')['console'].apply(list)\n",
    "\n",
    "# Converting the grouped Series to Markdown\n",
    "markdown_table = MarkDownSeries(grouped_series)\n",
    "\n",
    "print(markdown_table)"
   ]
  },
  {
   "cell_type": "markdown",
   "metadata": {},
   "source": [
    "| manufacturer | console |\n",
    "|---|---|\n",
    "| atari | 2600, 7800, 5200, aj, int |\n",
    "| commodore | amig, c64, cd32 |\n",
    "| mobile | ios, and, winp, ngage, mob |\n",
    "| nintendo | 3ds, dsiw, dsi, ds, wii, wiiu, ns, gb, gba, nes, snes, gbc, n64, vb, gc, vc, ww |\n",
    "| other | ouya, or, acpc, ast, apii, pce, zxs, lynx, ng, zxs, 3do, pcfx, ws, brw, cv, giz, msx, tg16, bbcm |\n",
    "| pc | linux, osx, pc, arc, all, fmt, c128, aco |\n",
    "| sega | gg, msd, ms, gen, scd, sat, s32x, dc |\n",
    "| sony | ps, ps2, ps3, ps4, ps5, psp, psv, psn, cdi |\n",
    "| xbox | x360, xone, series, xbl, xb, xs |\n"
   ]
  }
 ],
 "metadata": {
  "kernelspec": {
   "display_name": "venv",
   "language": "python",
   "name": "python3"
  },
  "language_info": {
   "codemirror_mode": {
    "name": "ipython",
    "version": 3
   },
   "file_extension": ".py",
   "mimetype": "text/x-python",
   "name": "python",
   "nbconvert_exporter": "python",
   "pygments_lexer": "ipython3",
   "version": "3.12.2"
  }
 },
 "nbformat": 4,
 "nbformat_minor": 2
}
