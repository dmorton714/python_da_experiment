{
 "cells": [
  {
   "cell_type": "code",
   "execution_count": 1,
   "metadata": {},
   "outputs": [],
   "source": [
    "import pandas as pd\n",
    "import matplotlib as plt\n",
    "import matplotlib.pyplot as plt\n",
    "import numpy as np\n",
    "from sqlite3 import connect\n",
    "from markdown import MarkDownSeries, MarkDownTable"
   ]
  },
  {
   "cell_type": "markdown",
   "metadata": {},
   "source": [
    "### Reading in our data"
   ]
  },
  {
   "cell_type": "code",
   "execution_count": 2,
   "metadata": {},
   "outputs": [],
   "source": [
    "RawData = pd.read_csv('vgchartz-2024.csv')"
   ]
  },
  {
   "cell_type": "markdown",
   "metadata": {},
   "source": [
    "### Looking at our code from the last chapter. \n",
    "\n",
    "The code processes the RawData DataFrame by:\n",
    "\n",
    "- Converting the release_date column to `datetime`\n",
    "\n",
    "- Removing specified **columns**: 'img' and 'last_update'\n",
    "\n",
    "- Drops rows with missing 'release_date' \n",
    "\n",
    "- Fills missing values with **zeros** in certain columns\n",
    "\n",
    "- Converts the 'console' column values to lowercase\n",
    "\n",
    "```python\n",
    "RawData['release_date'] = pd.to_datetime(RawData['release_date'])\n",
    "RawData.drop(['img', 'last_update'], axis=1, inplace=True)\n",
    "RawData = RawData.dropna(subset=['release_date'])\n",
    "columns_to_fill_zero = ['critic_score', 'total_sales', 'na_sales', 'jp_sales', 'pal_sales', 'other_sales']\n",
    "RawData.loc[:, columns_to_fill_zero] = RawData.loc[:, columns_to_fill_zero].fillna(0)\n",
    "RawData['console'] = RawData['console'].str.lower()\n",
    "```"
   ]
  },
  {
   "cell_type": "code",
   "execution_count": 3,
   "metadata": {},
   "outputs": [],
   "source": [
    "RawData['release_date'] = pd.to_datetime(RawData['release_date'])\n",
    "RawData.drop(['img', 'last_update'], axis=1, inplace=True)\n",
    "RawData = RawData.dropna(subset=['release_date'])\n",
    "columns_to_fill_zero = ['critic_score', 'total_sales', 'na_sales', 'jp_sales', 'pal_sales', 'other_sales']\n",
    "RawData.loc[:, columns_to_fill_zero] = RawData.loc[:, columns_to_fill_zero].fillna(0)\n",
    "RawData['console'] = RawData['console'].str.lower()"
   ]
  },
  {
   "cell_type": "code",
   "execution_count": 5,
   "metadata": {},
   "outputs": [
    {
     "data": {
      "text/plain": [
       "console\n",
       "pc      10477\n",
       "ps2      3511\n",
       "ds       3166\n",
       "ps       2694\n",
       "ps4      2102\n",
       "        ...  \n",
       "fmt         3\n",
       "cd32        2\n",
       "aco         1\n",
       "bbcm        1\n",
       "c128        1\n",
       "Name: count, Length: 79, dtype: int64"
      ]
     },
     "execution_count": 5,
     "metadata": {},
     "output_type": "execute_result"
    }
   ],
   "source": [
    "RawData['console'].value_counts()"
   ]
  },
  {
   "cell_type": "markdown",
   "metadata": {},
   "source": [
    "Problem: We have consoles for the sales data, but we don't have who the manufacturer is for the consoles. To solve this we will map the consoles to a manfacture using a dictionary. \n",
    "\n",
    "Mapping console to make new manufacture column\n",
    "- Make dictionary for mapping \n",
    "- Flatten into a single list \n",
    "- Checking for missing items \n",
    "- Create conditions and values for np.select\n",
    "- Assign console manufacturers\n"
   ]
  },
  {
   "cell_type": "code",
   "execution_count": 6,
   "metadata": {},
   "outputs": [
    {
     "name": "stdout",
     "output_type": "stream",
     "text": [
      "All items are covered.\n"
     ]
    }
   ],
   "source": [
    "categories = {\n",
    "    'nintendo': ['3ds', 'dsiw', 'dsi', 'ds', 'wii', 'wiiu', 'ns', 'gb', 'gba', 'nes', 'snes', 'gbc', 'n64', 'vb', 'gc', 'vc','ww'],\n",
    "    'pc': ['linux', 'osx', 'pc', 'arc', 'all', 'fmt', 'c128', 'aco'],\n",
    "    'xbox': ['x360', 'xone', 'series', 'xbl', 'xb', 'xs'],\n",
    "    'sony': ['ps', 'ps2', 'ps3', 'ps4', 'ps5', 'psp', 'psv', 'psn', 'cdi'],\n",
    "    'mobile': ['ios', 'and', 'winp', 'ngage', 'mob'],\n",
    "    'sega': ['gg', 'msd', 'ms', 'gen', 'scd', 'sat', 's32x', 'dc'],\n",
    "    'atari': ['2600', '7800', '5200', 'aj', 'int'],\n",
    "    'commodore': ['amig', 'c64', 'cd32'],\n",
    "    'other': ['ouya', 'or', 'acpc', 'ast', 'apii', 'pce', 'zxs', 'lynx', 'ng', 'zxs', '3do', 'pcfx', 'ws', 'brw', 'cv', 'giz', 'msx', 'tg16', 'bbcm']\n",
    "}\n",
    "\n",
    "# Step 2: Flatten categories into a single list\n",
    "all_items = []\n",
    "for sublist in categories.values():\n",
    "    for item in sublist:\n",
    "        all_items.append(item)\n",
    "\n",
    "# Step 3: Check for missing items\n",
    "all_items_lower = [item.lower().strip() for item in all_items]\n",
    "unique_values_lower = set(RawData['console'].str.lower().str.strip().unique())\n",
    "missing_items = set(all_items_lower) - unique_values_lower\n",
    "\n",
    "if missing_items:\n",
    "    print(f\"Missing items: {missing_items}\")\n",
    "else:\n",
    "    print(\"All items are covered.\")\n",
    "\n",
    "# Step 4: Create conditions and values for np.select\n",
    "conditions = []\n",
    "for items in categories.values():\n",
    "    conditions.append(RawData['console'].isin(items))\n",
    "\n",
    "values = list(categories.keys())\n",
    "\n",
    "# Step 5: Assign console manufacturers\n",
    "RawData['console_mfg'] = np.select(conditions, values, default='unknown')"
   ]
  },
  {
   "cell_type": "code",
   "execution_count": 7,
   "metadata": {},
   "outputs": [
    {
     "data": {
      "text/plain": [
       "console_mfg\n",
       "nintendo     16383\n",
       "sony         14831\n",
       "pc           12620\n",
       "xbox          6461\n",
       "sega          3078\n",
       "other         1497\n",
       "mobile        1224\n",
       "atari          812\n",
       "commodore       59\n",
       "Name: count, dtype: int64"
      ]
     },
     "execution_count": 7,
     "metadata": {},
     "output_type": "execute_result"
    }
   ],
   "source": [
    "RawData['console_mfg'].value_counts()"
   ]
  },
  {
   "cell_type": "code",
   "execution_count": 8,
   "metadata": {},
   "outputs": [
    {
     "name": "stdout",
     "output_type": "stream",
     "text": [
      "Consoles with unknown manufacturers:\n"
     ]
    },
    {
     "data": {
      "text/plain": [
       "Series([], Name: count, dtype: int64)"
      ]
     },
     "execution_count": 8,
     "metadata": {},
     "output_type": "execute_result"
    }
   ],
   "source": [
    "missing_consoles = RawData[RawData['console_mfg'] == \"unknown\"]['console']\n",
    "print(\"Consoles with unknown manufacturers:\")\n",
    "missing_consoles.value_counts()"
   ]
  },
  {
   "cell_type": "code",
   "execution_count": 9,
   "metadata": {},
   "outputs": [
    {
     "name": "stdout",
     "output_type": "stream",
     "text": [
      "Rows where console = 'bbcm':\n"
     ]
    },
    {
     "data": {
      "text/html": [
       "<div>\n",
       "<style scoped>\n",
       "    .dataframe tbody tr th:only-of-type {\n",
       "        vertical-align: middle;\n",
       "    }\n",
       "\n",
       "    .dataframe tbody tr th {\n",
       "        vertical-align: top;\n",
       "    }\n",
       "\n",
       "    .dataframe thead th {\n",
       "        text-align: right;\n",
       "    }\n",
       "</style>\n",
       "<table border=\"1\" class=\"dataframe\">\n",
       "  <thead>\n",
       "    <tr style=\"text-align: right;\">\n",
       "      <th></th>\n",
       "      <th>title</th>\n",
       "      <th>console</th>\n",
       "      <th>genre</th>\n",
       "      <th>publisher</th>\n",
       "      <th>developer</th>\n",
       "      <th>critic_score</th>\n",
       "      <th>total_sales</th>\n",
       "      <th>na_sales</th>\n",
       "      <th>jp_sales</th>\n",
       "      <th>pal_sales</th>\n",
       "      <th>other_sales</th>\n",
       "      <th>release_date</th>\n",
       "      <th>console_mfg</th>\n",
       "    </tr>\n",
       "  </thead>\n",
       "  <tbody>\n",
       "    <tr>\n",
       "      <th>34229</th>\n",
       "      <td>Elite</td>\n",
       "      <td>bbcm</td>\n",
       "      <td>Misc</td>\n",
       "      <td>Frontier Developments Inc.</td>\n",
       "      <td>Unknown</td>\n",
       "      <td>0.0</td>\n",
       "      <td>0.0</td>\n",
       "      <td>0.0</td>\n",
       "      <td>0.0</td>\n",
       "      <td>0.0</td>\n",
       "      <td>0.0</td>\n",
       "      <td>1984-09-20</td>\n",
       "      <td>other</td>\n",
       "    </tr>\n",
       "  </tbody>\n",
       "</table>\n",
       "</div>"
      ],
      "text/plain": [
       "       title console genre                   publisher developer  \\\n",
       "34229  Elite    bbcm  Misc  Frontier Developments Inc.   Unknown   \n",
       "\n",
       "       critic_score  total_sales  na_sales  jp_sales  pal_sales  other_sales  \\\n",
       "34229           0.0          0.0       0.0       0.0        0.0          0.0   \n",
       "\n",
       "      release_date console_mfg  \n",
       "34229   1984-09-20       other  "
      ]
     },
     "execution_count": 9,
     "metadata": {},
     "output_type": "execute_result"
    }
   ],
   "source": [
    "ConsoleToQuery = 'bbcm'\n",
    "QueryResult = RawData[RawData['console'] == ConsoleToQuery]\n",
    "print(f\"Rows where console = '{ConsoleToQuery}':\")\n",
    "QueryResult.head(20)"
   ]
  },
  {
   "cell_type": "code",
   "execution_count": 10,
   "metadata": {},
   "outputs": [
    {
     "data": {
      "text/html": [
       "<div>\n",
       "<style scoped>\n",
       "    .dataframe tbody tr th:only-of-type {\n",
       "        vertical-align: middle;\n",
       "    }\n",
       "\n",
       "    .dataframe tbody tr th {\n",
       "        vertical-align: top;\n",
       "    }\n",
       "\n",
       "    .dataframe thead th {\n",
       "        text-align: right;\n",
       "    }\n",
       "</style>\n",
       "<table border=\"1\" class=\"dataframe\">\n",
       "  <thead>\n",
       "    <tr style=\"text-align: right;\">\n",
       "      <th></th>\n",
       "      <th>title</th>\n",
       "      <th>console</th>\n",
       "      <th>genre</th>\n",
       "      <th>publisher</th>\n",
       "      <th>developer</th>\n",
       "      <th>critic_score</th>\n",
       "      <th>total_sales</th>\n",
       "      <th>na_sales</th>\n",
       "      <th>jp_sales</th>\n",
       "      <th>pal_sales</th>\n",
       "      <th>other_sales</th>\n",
       "      <th>release_date</th>\n",
       "      <th>console_mfg</th>\n",
       "    </tr>\n",
       "  </thead>\n",
       "  <tbody>\n",
       "    <tr>\n",
       "      <th>38407</th>\n",
       "      <td>The Great Giana Sisters</td>\n",
       "      <td>msx</td>\n",
       "      <td>Misc</td>\n",
       "      <td>Rainbow Arts</td>\n",
       "      <td>Unknown</td>\n",
       "      <td>0.0</td>\n",
       "      <td>0.0</td>\n",
       "      <td>0.0</td>\n",
       "      <td>0.0</td>\n",
       "      <td>0.0</td>\n",
       "      <td>0.0</td>\n",
       "      <td>1987-01-01</td>\n",
       "      <td>other</td>\n",
       "    </tr>\n",
       "    <tr>\n",
       "      <th>38408</th>\n",
       "      <td>The Great Giana Sisters</td>\n",
       "      <td>ast</td>\n",
       "      <td>Misc</td>\n",
       "      <td>Rainbow Arts</td>\n",
       "      <td>Unknown</td>\n",
       "      <td>0.0</td>\n",
       "      <td>0.0</td>\n",
       "      <td>0.0</td>\n",
       "      <td>0.0</td>\n",
       "      <td>0.0</td>\n",
       "      <td>0.0</td>\n",
       "      <td>1987-01-01</td>\n",
       "      <td>other</td>\n",
       "    </tr>\n",
       "    <tr>\n",
       "      <th>38409</th>\n",
       "      <td>The Great Giana Sisters</td>\n",
       "      <td>amig</td>\n",
       "      <td>Misc</td>\n",
       "      <td>Rainbow Arts</td>\n",
       "      <td>Unknown</td>\n",
       "      <td>0.0</td>\n",
       "      <td>0.0</td>\n",
       "      <td>0.0</td>\n",
       "      <td>0.0</td>\n",
       "      <td>0.0</td>\n",
       "      <td>0.0</td>\n",
       "      <td>1987-01-01</td>\n",
       "      <td>commodore</td>\n",
       "    </tr>\n",
       "    <tr>\n",
       "      <th>38410</th>\n",
       "      <td>The Great Giana Sisters</td>\n",
       "      <td>c64</td>\n",
       "      <td>Misc</td>\n",
       "      <td>Rainbow Arts</td>\n",
       "      <td>Unknown</td>\n",
       "      <td>0.0</td>\n",
       "      <td>0.0</td>\n",
       "      <td>0.0</td>\n",
       "      <td>0.0</td>\n",
       "      <td>0.0</td>\n",
       "      <td>0.0</td>\n",
       "      <td>1987-01-01</td>\n",
       "      <td>commodore</td>\n",
       "    </tr>\n",
       "    <tr>\n",
       "      <th>38411</th>\n",
       "      <td>The Great Giana Sisters</td>\n",
       "      <td>brw</td>\n",
       "      <td>Misc</td>\n",
       "      <td>Rainbow Arts</td>\n",
       "      <td>Unknown</td>\n",
       "      <td>0.0</td>\n",
       "      <td>0.0</td>\n",
       "      <td>0.0</td>\n",
       "      <td>0.0</td>\n",
       "      <td>0.0</td>\n",
       "      <td>0.0</td>\n",
       "      <td>1987-01-01</td>\n",
       "      <td>other</td>\n",
       "    </tr>\n",
       "    <tr>\n",
       "      <th>41938</th>\n",
       "      <td>The Great Giana Sisters</td>\n",
       "      <td>acpc</td>\n",
       "      <td>Platform</td>\n",
       "      <td>Rainbow Arts</td>\n",
       "      <td>Time Warp Productions</td>\n",
       "      <td>0.0</td>\n",
       "      <td>0.0</td>\n",
       "      <td>0.0</td>\n",
       "      <td>0.0</td>\n",
       "      <td>0.0</td>\n",
       "      <td>0.0</td>\n",
       "      <td>1987-01-01</td>\n",
       "      <td>other</td>\n",
       "    </tr>\n",
       "  </tbody>\n",
       "</table>\n",
       "</div>"
      ],
      "text/plain": [
       "                         title console     genre     publisher  \\\n",
       "38407  The Great Giana Sisters     msx      Misc  Rainbow Arts   \n",
       "38408  The Great Giana Sisters     ast      Misc  Rainbow Arts   \n",
       "38409  The Great Giana Sisters    amig      Misc  Rainbow Arts   \n",
       "38410  The Great Giana Sisters     c64      Misc  Rainbow Arts   \n",
       "38411  The Great Giana Sisters     brw      Misc  Rainbow Arts   \n",
       "41938  The Great Giana Sisters    acpc  Platform  Rainbow Arts   \n",
       "\n",
       "                   developer  critic_score  total_sales  na_sales  jp_sales  \\\n",
       "38407                Unknown           0.0          0.0       0.0       0.0   \n",
       "38408                Unknown           0.0          0.0       0.0       0.0   \n",
       "38409                Unknown           0.0          0.0       0.0       0.0   \n",
       "38410                Unknown           0.0          0.0       0.0       0.0   \n",
       "38411                Unknown           0.0          0.0       0.0       0.0   \n",
       "41938  Time Warp Productions           0.0          0.0       0.0       0.0   \n",
       "\n",
       "       pal_sales  other_sales release_date console_mfg  \n",
       "38407        0.0          0.0   1987-01-01       other  \n",
       "38408        0.0          0.0   1987-01-01       other  \n",
       "38409        0.0          0.0   1987-01-01   commodore  \n",
       "38410        0.0          0.0   1987-01-01   commodore  \n",
       "38411        0.0          0.0   1987-01-01       other  \n",
       "41938        0.0          0.0   1987-01-01       other  "
      ]
     },
     "execution_count": 10,
     "metadata": {},
     "output_type": "execute_result"
    }
   ],
   "source": [
    "GameToQuery = 'The Great Giana Sisters'\n",
    "GameQueryResult = RawData[RawData['title'] == GameToQuery]\n",
    "GameQueryResult.head(20)"
   ]
  },
  {
   "cell_type": "code",
   "execution_count": 11,
   "metadata": {},
   "outputs": [
    {
     "name": "stdout",
     "output_type": "stream",
     "text": [
      "| manufacturer | console |\n",
      "|---|---|\n",
      "| atari | 2600, 7800, 5200, aj, int |\n",
      "| commodore | amig, c64, cd32 |\n",
      "| mobile | ios, and, winp, ngage, mob |\n",
      "| nintendo | 3ds, dsiw, dsi, ds, wii, wiiu, ns, gb, gba, nes, snes, gbc, n64, vb, gc, vc, ww |\n",
      "| other | ouya, or, acpc, ast, apii, pce, zxs, lynx, ng, zxs, 3do, pcfx, ws, brw, cv, giz, msx, tg16, bbcm |\n",
      "| pc | linux, osx, pc, arc, all, fmt, c128, aco |\n",
      "| sega | gg, msd, ms, gen, scd, sat, s32x, dc |\n",
      "| sony | ps, ps2, ps3, ps4, ps5, psp, psv, psn, cdi |\n",
      "| xbox | x360, xone, series, xbl, xb, xs |\n",
      "\n"
     ]
    }
   ],
   "source": [
    "categoriesList = []\n",
    "for manufacturer, consoles in categories.items():\n",
    "    for console in consoles:\n",
    "        categoriesList.append({'manufacturer': manufacturer, 'console': console})\n",
    "\n",
    "# Converting the list to a DataFrame\n",
    "mfg_list = pd.DataFrame(categoriesList)\n",
    "\n",
    "# Grouping by 'manufacturer' and aggregating consoles into lists\n",
    "grouped_series = mfg_list.groupby('manufacturer')['console'].apply(list)\n",
    "\n",
    "# Converting the grouped Series to Markdown\n",
    "markdown_table = MarkDownSeries(grouped_series)\n",
    "\n",
    "print(markdown_table)"
   ]
  },
  {
   "cell_type": "markdown",
   "metadata": {},
   "source": [
    "| manufacturer | console |\n",
    "|---|---|\n",
    "| atari | 2600, 7800, 5200, aj, int |\n",
    "| commodore | amig, c64, cd32 |\n",
    "| mobile | ios, and, winp, ngage, mob |\n",
    "| nintendo | 3ds, dsiw, dsi, ds, wii, wiiu, ns, gb, gba, nes, snes, gbc, n64, vb, gc, vc, ww |\n",
    "| other | ouya, or, acpc, ast, apii, pce, zxs, lynx, ng, zxs, 3do, pcfx, ws, brw, cv, giz, msx, tg16, bbcm |\n",
    "| pc | linux, osx, pc, arc, all, fmt, c128, aco |\n",
    "| sega | gg, msd, ms, gen, scd, sat, s32x, dc |\n",
    "| sony | ps, ps2, ps3, ps4, ps5, psp, psv, psn, cdi |\n",
    "| xbox | x360, xone, series, xbl, xb, xs |\n"
   ]
  }
 ],
 "metadata": {
  "kernelspec": {
   "display_name": "venv",
   "language": "python",
   "name": "python3"
  },
  "language_info": {
   "codemirror_mode": {
    "name": "ipython",
    "version": 3
   },
   "file_extension": ".py",
   "mimetype": "text/x-python",
   "name": "python",
   "nbconvert_exporter": "python",
   "pygments_lexer": "ipython3",
   "version": "3.12.2"
  }
 },
 "nbformat": 4,
 "nbformat_minor": 2
}
