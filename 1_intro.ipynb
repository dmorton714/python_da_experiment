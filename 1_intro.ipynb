{
 "cells": [
  {
   "cell_type": "markdown",
   "metadata": {},
   "source": [
    "Imports the library pandas. This is used for data analytics. If you dont have it installed. You must use `pip install pandas` in the terminal. \n",
    "- `pandas` is a powerful library in Python used for data manipulation and analysis.\n",
    "- We usually import it with the alias `pd` to make it easier to use in our code."
   ]
  },
  {
   "cell_type": "code",
   "execution_count": 1,
   "metadata": {},
   "outputs": [],
   "source": [
    "import pandas as pd"
   ]
  },
  {
   "cell_type": "markdown",
   "metadata": {},
   "source": [
    "## Reading a CSV file"
   ]
  },
  {
   "cell_type": "code",
   "execution_count": 14,
   "metadata": {},
   "outputs": [
    {
     "data": {
      "text/html": [
       "<div>\n",
       "<style scoped>\n",
       "    .dataframe tbody tr th:only-of-type {\n",
       "        vertical-align: middle;\n",
       "    }\n",
       "\n",
       "    .dataframe tbody tr th {\n",
       "        vertical-align: top;\n",
       "    }\n",
       "\n",
       "    .dataframe thead th {\n",
       "        text-align: right;\n",
       "    }\n",
       "</style>\n",
       "<table border=\"1\" class=\"dataframe\">\n",
       "  <thead>\n",
       "    <tr style=\"text-align: right;\">\n",
       "      <th></th>\n",
       "      <th>img</th>\n",
       "      <th>title</th>\n",
       "      <th>console</th>\n",
       "      <th>genre</th>\n",
       "      <th>publisher</th>\n",
       "      <th>developer</th>\n",
       "      <th>critic_score</th>\n",
       "      <th>total_sales</th>\n",
       "      <th>na_sales</th>\n",
       "      <th>jp_sales</th>\n",
       "      <th>pal_sales</th>\n",
       "      <th>other_sales</th>\n",
       "      <th>release_date</th>\n",
       "      <th>last_update</th>\n",
       "    </tr>\n",
       "  </thead>\n",
       "  <tbody>\n",
       "    <tr>\n",
       "      <th>0</th>\n",
       "      <td>/games/boxart/full_6510540AmericaFrontccc.jpg</td>\n",
       "      <td>Grand Theft Auto V</td>\n",
       "      <td>PS3</td>\n",
       "      <td>Action</td>\n",
       "      <td>Rockstar Games</td>\n",
       "      <td>Rockstar North</td>\n",
       "      <td>9.4</td>\n",
       "      <td>20.32</td>\n",
       "      <td>6.37</td>\n",
       "      <td>0.99</td>\n",
       "      <td>9.85</td>\n",
       "      <td>3.12</td>\n",
       "      <td>2013-09-17</td>\n",
       "      <td>NaN</td>\n",
       "    </tr>\n",
       "  </tbody>\n",
       "</table>\n",
       "</div>"
      ],
      "text/plain": [
       "                                             img               title console  \\\n",
       "0  /games/boxart/full_6510540AmericaFrontccc.jpg  Grand Theft Auto V     PS3   \n",
       "\n",
       "    genre       publisher       developer  critic_score  total_sales  \\\n",
       "0  Action  Rockstar Games  Rockstar North           9.4        20.32   \n",
       "\n",
       "   na_sales  jp_sales  pal_sales  other_sales release_date last_update  \n",
       "0      6.37      0.99       9.85         3.12   2013-09-17         NaN  "
      ]
     },
     "execution_count": 14,
     "metadata": {},
     "output_type": "execute_result"
    }
   ],
   "source": [
    "data = pd.read_csv('vgchartz-2024.csv')\n",
    "data.head(1)"
   ]
  },
  {
   "cell_type": "markdown",
   "metadata": {},
   "source": [
    "#### What we did:\n",
    "- `pd.read_csv()` is a function in `pandas` that reads a **CSV** (Comma-Separated Values) file and loads the data into a **DataFrame**.\n",
    "- 'vgchartz-2024.csv' is the name of the **CSV file** we are reading. \n",
    "- It should be located in the same **directory (folder)** as your *Python script*, or you need to provide the full path to the file.\n",
    "- **`data`** is the variable that stores the `DataFrame` created from the **CSV file**. A `DataFrame` is a table-like data structure with rows and columns, similar to a spreadsheet or a SQL table.\n",
    "- `data.head()` is a **method** in `pandas` that returns the first 5 rows of the `DataFrame`.\n",
    "- The method `.head(1)` takes an **argument** \n",
    "- We us **1** to just return the first row of the `DataFrame`.\n",
    "- This is useful for quickly checking what your data looks like and verifying that it was read correctly from the **CSV file**."
   ]
  },
  {
   "cell_type": "markdown",
   "metadata": {},
   "source": [
    "## Finding the Top 10 Consoles by sales"
   ]
  },
  {
   "cell_type": "code",
   "execution_count": 8,
   "metadata": {},
   "outputs": [
    {
     "data": {
      "text/plain": [
       "console\n",
       "PS2     1027.76\n",
       "X360     859.79\n",
       "PS3      839.70\n",
       "PS       546.25\n",
       "PS4      539.92\n",
       "Wii      459.44\n",
       "DS       458.17\n",
       "XOne     268.96\n",
       "PSP      245.29\n",
       "XB       232.05\n",
       "Name: total_sales, dtype: float64"
      ]
     },
     "execution_count": 8,
     "metadata": {},
     "output_type": "execute_result"
    }
   ],
   "source": [
    "top_console = data.groupby('console')['total_sales'].sum().sort_values(ascending=False).head(10)\n",
    "top_console"
   ]
  },
  {
   "cell_type": "markdown",
   "metadata": {},
   "source": [
    "#### What we did:\n",
    "\n",
    "The code identifies the top 10 gaming consoles with the highest total sales from our data.\n",
    "\n",
    "- **Groups data:** It groups the data by the 'console' column.\n",
    "- **Sums values:** It calculates the total sales for each console.\n",
    "- **Sorts values:** It sorts the consoles by their total sales in descending order.\n",
    "- **Selects top entries:** It selects the top 10 consoles with the highest total sales.\n",
    "- **Displays the result:** It shows the result, which is a list of the top 10 consoles by total sales.\n"
   ]
  },
  {
   "cell_type": "markdown",
   "metadata": {},
   "source": [
    "## Graphing our findings:"
   ]
  },
  {
   "cell_type": "code",
   "execution_count": 9,
   "metadata": {},
   "outputs": [
    {
     "data": {
      "text/plain": [
       "<Axes: xlabel='console'>"
      ]
     },
     "execution_count": 9,
     "metadata": {},
     "output_type": "execute_result"
    },
    {
     "data": {
      "image/png": "[encoded data removed]",
      "text/plain": [
       "<Figure size 640x480 with 1 Axes>"
      ]
     },
     "metadata": {},
     "output_type": "display_data"
    }
   ],
   "source": [
    "top_console.plot.bar()"
   ]
  },
  {
   "cell_type": "markdown",
   "metadata": {},
   "source": [
    "#### What we did:\n",
    "\n",
    "- **Used the top_console data:** This data comes from the **DataFrame** `top_console` and includes their total sales.\n",
    "- **Plotted a bar chart:** We generated a bar chart where each bar represents a console, using the `.plot()` **method**.\n",
    "\n",
    "*While this works, we will add some features to improve readability*"
   ]
  },
  {
   "cell_type": "code",
   "execution_count": 16,
   "metadata": {},
   "outputs": [
    {
     "data": {
      "text/plain": [
       "<Axes: title={'center': 'Top Console by Sales'}, xlabel='Console', ylabel='Sales in Millions'>"
      ]
     },
     "execution_count": 16,
     "metadata": {},
     "output_type": "execute_result"
    },
    {
     "data": {
      "image/png": "[encoded data removed]",
      "text/plain": [
       "<Figure size 640x480 with 1 Axes>"
      ]
     },
     "metadata": {},
     "output_type": "display_data"
    }
   ],
   "source": [
    "top_console.plot.bar(\n",
    "  title = 'Top Console by Sales', \n",
    "  xlabel = \"Console\", \n",
    "  rot = 45, \n",
    "  ylabel = \"Sales in Millions\", \n",
    "  legend = True\n",
    ")\n"
   ]
  },
  {
   "cell_type": "markdown",
   "metadata": {},
   "source": [
    "#### What we did:\n",
    "\n",
    "We added several features to improve the readability and presentation of the bar chart:\n",
    "\n",
    "- `title='Top Console by Sales'`: Adds a title to the bar chart, which helps viewers understand what the chart represents.\n",
    "\n",
    "- `xlabel='Console'`: Labels the x-axis with \"Console,\" indicating what the bars represent.\n",
    "\n",
    "- `rot=45`: Rotates the x-axis labels by 45 degrees. This can help make long or overlapping labels easier to read.\n",
    "\n",
    "- `ylabel='Sales in Millions'`: Labels the y-axis with \"Sales in Millions,\" making it clear what the vertical axis represents.\n",
    "\n",
    "- `legend=True`: Displays a legend on the chart. \n"
   ]
  },
  {
   "cell_type": "markdown",
   "metadata": {},
   "source": [
    "This introduction to data analytics with Python effectively demonstrates how straightforward it can be to load data, transform it, and present findings in a meaningful way.\n",
    "\n",
    "However, it’s important to acknowledge that while this example is valuable, it does have limitations. With 64,016 rows of data, our dataset is likely to contain errors and missing values. Addressing these issues is essential for ensuring the accuracy and reliability of our analysis.\n",
    "\n",
    "In the next section, we will review what we’ve learned in more depth. We’ll then dive into data cleaning and explore various techniques to truly get started in data analytics"
   ]
  },
  {
   "cell_type": "markdown",
   "metadata": {},
   "source": [
    "# Taking a dive into what learned "
   ]
  },
  {
   "cell_type": "markdown",
   "metadata": {},
   "source": [
    "**Importing the pandas library**: \n",
    "```python \n",
    "import pandas as pd\n",
    "\n",
    "```\n",
    "\n",
    "* **Purpose**: This line imports the pandas library, which provides data structures and functions for efficient data manipulation and analysis in Python. The alias `pd` is used for convenience.\n",
    "\n",
    "**Reading data from a CSV file**: \n",
    "\n",
    "```python \n",
    "data = pd.read_csv('vgchartz-2024.csv')\n",
    "\n",
    "```\n",
    "\n",
    "* **Purpose**: This function reads the contents of the CSV file named `vgchartz-2024.csv` into a pandas DataFrame called `data`. A DataFrame is a two-dimensional, size-mutable, and potentially heterogeneous tabular data structure.\n",
    "\n",
    "**Viewing the first row of the DataFrame**: \n",
    "\n",
    "```python\n",
    "data.head(1)\n",
    "\n",
    "```\n",
    "\n",
    "* **Purpose**: The `head()` method is used to preview the first few rows of the DataFrame. In this case, `head(1)` displays only the first row. This is useful for checking the structure and contents of the data to ensure it was loaded correctly.\n",
    "\n",
    "### Grouping and Summing Sales Data\n",
    "\n",
    "```python\n",
    "top_console = data.groupby('console')['total_sales'].sum().sort_values(ascending=False).head(10)\n",
    "\n",
    "```\n",
    "\n",
    "* **Grouping**: `data.groupby('console')` groups the DataFrame by the `console` column. This means that all rows with the same console name are grouped together.\n",
    "\n",
    "* **Summing**: `['total_sales'].sum()` calculates the total sales for each group (i.e., each console).\n",
    "\n",
    "* **Sorting**: `.sort_values(ascending=False)` sorts the consoles by their total sales in descending order, so the consoles with the highest sales come first.\n",
    "\n",
    "* **Selecting Top 10**: `.head(10)` selects the top 10 consoles based on their total sales.\n",
    "\n",
    "**Displaying the top consoles**: \n",
    "\n",
    "```python \n",
    "top_console\n",
    "\n",
    "```\n",
    "\n",
    "* **Purpose**: This line outputs the `top_console` Series, which contains the top 10 consoles with the highest total sales. It shows the console names and their corresponding sales figures.\n",
    "\n",
    "**Plotting a bar chart**: \n",
    "\n",
    "```python \n",
    "top_console.plot.bar()\n",
    "\n",
    "```\n",
    "\n",
    "* **Purpose**: This method creates a bar chart to visualize the top consoles and their total sales. Each bar represents a console, with the height of the bar corresponding to its sales.\n",
    "\n",
    "**Customizing the bar chart**:\n",
    "\n",
    "```python \n",
    "top_console.plot.bar(\n",
    "  title='Top Console by Sales', \n",
    "  xlabel='Console', \n",
    "  rot=45, \n",
    "  ylabel='Sales in Millions', \n",
    "  legend=True\n",
    ")\n",
    "\n",
    "```\n",
    "\n",
    "* **`title='Top Console by Sales'`**: Adds a title to the bar chart, which helps viewers understand the purpose of the chart.\n",
    "\n",
    "* **`xlabel='Console'`**: Labels the x-axis with \"Console,\" indicating that the bars represent different consoles.\n",
    "\n",
    "* **`rot=45`**: Rotates the x-axis labels by 45 degrees to make them easier to read, especially if they are long or overlap.\n",
    "\n",
    "* **`ylabel='Sales in Millions'`**: Labels the y-axis with \"Sales in Millions,\" clarifying that the vertical axis shows the sales figures in millions.\n",
    "\n",
    "* **`legend=True`**: Displays a legend on the chart. Although this is typically more relevant if there are multiple series, it ensures clarity if there are any categorical distinctions.\n",
    "\n",
    "---"
   ]
  },
  {
   "cell_type": "markdown",
   "metadata": {},
   "source": [
    "## **What is a Python Package?**\n",
    "\n",
    "A Python package is a collection of modules bundled together. Modules are Python files (with a `.py` extension) that contain code—functions, classes, variables, etc.—which you can import and use in other Python scripts. Packages facilitate the organization and reuse of code, making it easier to manage and utilize pre-written functionality. This allows us to avoid reinventing the wheel by leveraging existing packages for common tasks, simplifying the development process.\n",
    "\n",
    "\n",
    "## **Key Concepts**\n",
    "\n",
    "\n",
    "### **1. Modules and Packages**\n",
    "\n",
    "\n",
    "\n",
    "* **Module**: A single Python file containing functions, classes, and variables. For example, `math` is a standard library module that provides mathematical functions.\n",
    "\n",
    "* **Package**: A directory containing multiple Python modules and an `__init__.py` file. The `__init__.py` file is executed when the package is imported, allowing initialization code to be run. For example, `numpy` is a package that includes various modules for numerical operations.\n",
    "\n",
    "In summary, a Python package or module is like a mini-program that extends Python's capabilities, allowing you to use pre-written code to perform various tasks and simplify development.\n",
    "\n",
    "### **2. Standard Library vs. Third-Party Packages**\n",
    "\n",
    "\n",
    "* **Standard Library**: Python comes with a standard library of built-in modules and packages, such as `os`, `sys`, `math`, and `datetime`. These are included with Python and do not require separate installation.\n",
    "\n",
    "* **Third-Party Packages**: These are packages developed and distributed by the Python community or other organizations. Examples include `pandas` for data manipulation, `requests` for HTTP requests, and `matplotlib` for plotting.\n",
    "\n",
    "Throughout this book, we will delve into a range of Python packages that are crucial for performing data analytics efficiently. We will explore how to utilize these packages to handle data, perform complex analyses, and visualize results effectively. By understanding and applying these tools, you'll be able to leverage Python's full potential to derive meaningful insights from data and enhance your analytical capabilities.\n",
    "\n",
    "## **Installation**\n",
    "\n",
    "To leverage packages for data wrangling, the first step is to install them in your environment. We use the Python package manager, `pip`, for this purpose, which is the most common method. While there are other ways to install packages, we will focus on using `pip` for simplicity.\n",
    "\n",
    "To install a package, you use the following command inside the terminal:\n",
    "```bash\n",
    "pip install \"package_name\"\n",
    "```\n",
    "\n",
    "For example, to install the `requests` package, you would run:\n",
    "```bash\n",
    "pip install requests\n",
    "```\n",
    "\n",
    "### **Managing Packages**\n",
    "\n",
    "**List Installed Packages**: To list all installed packages, use: \n",
    "```bash \n",
    "pip list\n",
    "```\n",
    "\n",
    "**Upgrade a Package**: To upgrade an installed package to the latest version, use: \n",
    "```bash \n",
    "pip install --upgrade \"package_name\"\n",
    "```\n",
    "\n",
    "**Uninstall a Package**: To uninstall a package, use: \n",
    "```bash \n",
    "pip uninstall \"package_name\"\n",
    "```\n",
    "\n",
    "## **Using Packages**\n",
    "\n",
    "Once a package is installed, you need to import it into your Python scripts using the `import` statement. Importing a package is essential, as it allows you to access its functionality. This practice helps keep your programs efficient and reduces unnecessary overhead. Below are a few examples of how to `import` packages into your code:\n",
    "\n",
    "\n",
    "**Importing a Module**: \n",
    "```python \n",
    "import math\n",
    "\n",
    "print(math.sqrt(16))  \n",
    "\n",
    "# Output: 4.0\n",
    "```\n",
    "\n",
    "\n",
    "\n",
    "**Importing Specific Functions or Classes**: \n",
    "\n",
    "```python \n",
    "from datetime import datetime\n",
    "\n",
    "now = datetime.datetime.now()\n",
    "print(now)\n",
    "\n",
    "# Output: 2024-07-20 22:18:02.335475\n",
    "```\n",
    "\n",
    "\n",
    "\n",
    "**Importing with an Alias**: \n",
    "```python \n",
    "import numpy as np\n",
    "\n",
    "array = np.array([1, 2, 3])\n",
    "print(array)\n",
    "\n",
    "#Output: [1 2 3]\n",
    "```\n",
    "\n",
    "\n",
    "\n",
    "## **Popular Python Packages**\n",
    "\n",
    "Here are some widely-used Python packages:\n",
    "\n",
    "\n",
    "\n",
    "* <strong><code>numpy</code></strong>: Provides support for arrays and matrices, along with a collection of mathematical functions.\n",
    "* <strong><code>pandas</code></strong>: Offers data structures and data analysis tools, primarily for working with DataFrames.\n",
    "* <strong><code>matplotlib</code></strong>: Used for creating static, animated, and interactive visualizations in Python.\n",
    "* <strong><code>scikit-learn</code></strong>: A machine learning library providing simple and efficient tools for data mining and data analysis.\n",
    "* <strong><code>requests</code></strong>: Simplifies making HTTP requests and handling responses.\n",
    "* <strong><code>beautifulsoup4</code></strong>: Facilitates web scraping by parsing HTML and XML documents.\n",
    "* <strong><code>flask</code></strong>: A micro web framework for building web applications.\n",
    "* <strong><code>django</code></strong>: A high-level web framework that encourages rapid development and clean, pragmatic design.\n"
   ]
  }
 ],
 "metadata": {
  "kernelspec": {
   "display_name": "venv",
   "language": "python",
   "name": "python3"
  },
  "language_info": {
   "codemirror_mode": {
    "name": "ipython",
    "version": 3
   },
   "file_extension": ".py",
   "mimetype": "text/x-python",
   "name": "python",
   "nbconvert_exporter": "python",
   "pygments_lexer": "ipython3",
   "version": "3.12.2"
  }
 },
 "nbformat": 4,
 "nbformat_minor": 2
}
